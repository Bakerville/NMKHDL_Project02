{
 "cells": [
  {
   "cell_type": "markdown",
   "id": "5cb68f17",
   "metadata": {},
   "source": [
    "# ĐỒ ÁN 2: KHÁM PHÁ DỮ LIỆU"
   ]
  },
  {
   "cell_type": "markdown",
   "id": "22655688",
   "metadata": {},
   "source": [
    "&#9889; **Bảng phân công nhóm**:"
   ]
  },
  {
   "cell_type": "markdown",
   "id": "6d4a4a0e",
   "metadata": {},
   "source": [
    "|Họ và tên|MSSV|Phân công| \n",
    "|-----|-------|------| \n",
    "|Phan Minh Triết|19120039|Khám phá file \"Users.csv\"| \n",
    "|Trần Đức Thuỵ|19120138|Khám phá file \"Tracks.csv\"|\n",
    "|Nguyễn Thanh Hiền|19120503|Khám phá file \"Playlists.csv\"|"
   ]
  },
  {
   "cell_type": "markdown",
   "id": "413a90e3",
   "metadata": {},
   "source": [
    " ##  Đặt vấn đề:"
   ]
  },
  {
   "cell_type": "markdown",
   "id": "d6b7f30d",
   "metadata": {},
   "source": [
    "- Một công ty phân phối âm nhạc Spotify đang phủ sóng khắp cả toàn cầu, được giới chuyên môn và người dùng đánh giá rất tích cực. Đây là công ty, doanh nghiệp phát triển ứng dụng tên Spotify phục vụ nhu cầu phân phối các bài hát nổi tiếng bởi những người dùng User và có trả phí để mở thêm nhiều tính năng tiện lợi hơn. Đội ngũ của họ là những người sáng tạo, phân tích dữ liệu người dùng. Một hôm với chiến lược bành trướng, theo sự chỉ đạo của đội ngũ phân tích dữ liệu, các nhân viên bắt đầu \"do thám\" trang web âm nhạc lớn - SoundCloud là một trang web, ứng dụng cho những người dùng cover âm nhạc tương tác với nhau bằng cách lấy những dữ liệu \"Users\", \"Tracks\", \"Playlists\" để phân tích. \n",
    "- Vấn đề được đặt ra: Ta sẽ đào sâu về những dữ liệu này và biết được những thông tin về người dùng truy cập."
   ]
  },
  {
   "cell_type": "markdown",
   "id": "a0c81bf5",
   "metadata": {},
   "source": [
    "## Khám phá dữ liệu:"
   ]
  },
  {
   "cell_type": "markdown",
   "id": "3e133db9",
   "metadata": {},
   "source": [
    "### Phần 1: Dữ liệu Users"
   ]
  },
  {
   "cell_type": "markdown",
   "id": "40ed52cc",
   "metadata": {},
   "source": [
    "#### Thư viện sử dụng:"
   ]
  },
  {
   "cell_type": "code",
   "execution_count": 1,
   "id": "e96fde35",
   "metadata": {},
   "outputs": [],
   "source": [
    "import matplotlib.pyplot as plt\n",
    "import pandas as pd "
   ]
  },
  {
   "cell_type": "markdown",
   "id": "d93d2721",
   "metadata": {},
   "source": [
    "#### Khám phá chi tiết những dữ liệu biết nói:"
   ]
  },
  {
   "cell_type": "markdown",
   "id": "ef059ed4",
   "metadata": {},
   "source": [
    "1. Dữ liệu có bao nhiêu dòng và bao nhiêu cột?"
   ]
  },
  {
   "cell_type": "code",
   "execution_count": 2,
   "id": "bf4c7d3f",
   "metadata": {},
   "outputs": [
    {
     "data": {
      "text/html": [
       "<div>\n",
       "<style scoped>\n",
       "    .dataframe tbody tr th:only-of-type {\n",
       "        vertical-align: middle;\n",
       "    }\n",
       "\n",
       "    .dataframe tbody tr th {\n",
       "        vertical-align: top;\n",
       "    }\n",
       "\n",
       "    .dataframe thead th {\n",
       "        text-align: right;\n",
       "    }\n",
       "</style>\n",
       "<table border=\"1\" class=\"dataframe\">\n",
       "  <thead>\n",
       "    <tr style=\"text-align: right;\">\n",
       "      <th></th>\n",
       "      <th>username</th>\n",
       "      <th>full_name</th>\n",
       "      <th>id</th>\n",
       "      <th>city</th>\n",
       "      <th>country_code</th>\n",
       "      <th>followers_count</th>\n",
       "      <th>permalink_url</th>\n",
       "      <th>avatar_url</th>\n",
       "      <th>verified</th>\n",
       "      <th>last_modified</th>\n",
       "      <th>kind</th>\n",
       "    </tr>\n",
       "  </thead>\n",
       "  <tbody>\n",
       "    <tr>\n",
       "      <th>0</th>\n",
       "      <td>Assala</td>\n",
       "      <td>Assala Nasri</td>\n",
       "      <td>102433987</td>\n",
       "      <td>NaN</td>\n",
       "      <td>NaN</td>\n",
       "      <td>353686</td>\n",
       "      <td>https://soundcloud.com/assalaofficial</td>\n",
       "      <td>https://i1.sndcdn.com/avatars-000459010359-q41...</td>\n",
       "      <td>True</td>\n",
       "      <td>2021-10-03T00:00:01Z</td>\n",
       "      <td>user</td>\n",
       "    </tr>\n",
       "    <tr>\n",
       "      <th>1</th>\n",
       "      <td>Levi Patel</td>\n",
       "      <td>Levi Patel</td>\n",
       "      <td>1776079</td>\n",
       "      <td>Auckland</td>\n",
       "      <td>NZ</td>\n",
       "      <td>13476</td>\n",
       "      <td>https://soundcloud.com/levipatel</td>\n",
       "      <td>https://i1.sndcdn.com/avatars-000660682205-k0g...</td>\n",
       "      <td>False</td>\n",
       "      <td>2020-02-25T06:26:57Z</td>\n",
       "      <td>user</td>\n",
       "    </tr>\n",
       "    <tr>\n",
       "      <th>2</th>\n",
       "      <td>Alice Baldwin</td>\n",
       "      <td>NaN</td>\n",
       "      <td>93750493</td>\n",
       "      <td>Berlin</td>\n",
       "      <td>NaN</td>\n",
       "      <td>4441</td>\n",
       "      <td>https://soundcloud.com/alice_baldwin</td>\n",
       "      <td>https://i1.sndcdn.com/avatars-LcqLIYPOHpKctU5z...</td>\n",
       "      <td>False</td>\n",
       "      <td>2021-09-13T10:49:41Z</td>\n",
       "      <td>user</td>\n",
       "    </tr>\n",
       "    <tr>\n",
       "      <th>3</th>\n",
       "      <td>Simeon Walker</td>\n",
       "      <td>Leeds, UK</td>\n",
       "      <td>130872163</td>\n",
       "      <td>Pianist &amp; Composer</td>\n",
       "      <td>NaN</td>\n",
       "      <td>4944</td>\n",
       "      <td>https://soundcloud.com/simeonwalkermusic</td>\n",
       "      <td>https://i1.sndcdn.com/avatars-gvVb4EzELDpbBFdx...</td>\n",
       "      <td>False</td>\n",
       "      <td>2021-10-29T07:16:23Z</td>\n",
       "      <td>user</td>\n",
       "    </tr>\n",
       "    <tr>\n",
       "      <th>4</th>\n",
       "      <td>Serein</td>\n",
       "      <td>NaN</td>\n",
       "      <td>1871</td>\n",
       "      <td>NaN</td>\n",
       "      <td>GB</td>\n",
       "      <td>8044</td>\n",
       "      <td>https://soundcloud.com/serein</td>\n",
       "      <td>https://i1.sndcdn.com/avatars-000154943922-qzz...</td>\n",
       "      <td>True</td>\n",
       "      <td>2021-10-04T15:26:43Z</td>\n",
       "      <td>user</td>\n",
       "    </tr>\n",
       "    <tr>\n",
       "      <th>...</th>\n",
       "      <td>...</td>\n",
       "      <td>...</td>\n",
       "      <td>...</td>\n",
       "      <td>...</td>\n",
       "      <td>...</td>\n",
       "      <td>...</td>\n",
       "      <td>...</td>\n",
       "      <td>...</td>\n",
       "      <td>...</td>\n",
       "      <td>...</td>\n",
       "      <td>...</td>\n",
       "    </tr>\n",
       "    <tr>\n",
       "      <th>1308</th>\n",
       "      <td>Alessia Cara</td>\n",
       "      <td>Alessia Cara</td>\n",
       "      <td>296514710</td>\n",
       "      <td>NaN</td>\n",
       "      <td>NaN</td>\n",
       "      <td>73949</td>\n",
       "      <td>https://soundcloud.com/alessiacara</td>\n",
       "      <td>https://i1.sndcdn.com/avatars-nzmyyEKgsE0lHqnb...</td>\n",
       "      <td>True</td>\n",
       "      <td>2021-09-24T04:05:57Z</td>\n",
       "      <td>user</td>\n",
       "    </tr>\n",
       "    <tr>\n",
       "      <th>1309</th>\n",
       "      <td>Alessia Cara</td>\n",
       "      <td>Alessia Cara</td>\n",
       "      <td>296514710</td>\n",
       "      <td>NaN</td>\n",
       "      <td>NaN</td>\n",
       "      <td>73949</td>\n",
       "      <td>https://soundcloud.com/alessiacara</td>\n",
       "      <td>https://i1.sndcdn.com/avatars-nzmyyEKgsE0lHqnb...</td>\n",
       "      <td>True</td>\n",
       "      <td>2021-09-24T04:05:57Z</td>\n",
       "      <td>user</td>\n",
       "    </tr>\n",
       "    <tr>\n",
       "      <th>1310</th>\n",
       "      <td>Alessia Cara</td>\n",
       "      <td>Alessia Cara</td>\n",
       "      <td>296514710</td>\n",
       "      <td>NaN</td>\n",
       "      <td>NaN</td>\n",
       "      <td>73949</td>\n",
       "      <td>https://soundcloud.com/alessiacara</td>\n",
       "      <td>https://i1.sndcdn.com/avatars-nzmyyEKgsE0lHqnb...</td>\n",
       "      <td>True</td>\n",
       "      <td>2021-09-24T04:05:57Z</td>\n",
       "      <td>user</td>\n",
       "    </tr>\n",
       "    <tr>\n",
       "      <th>1311</th>\n",
       "      <td>Alessia Cara</td>\n",
       "      <td>Alessia Cara</td>\n",
       "      <td>296514710</td>\n",
       "      <td>NaN</td>\n",
       "      <td>NaN</td>\n",
       "      <td>73949</td>\n",
       "      <td>https://soundcloud.com/alessiacara</td>\n",
       "      <td>https://i1.sndcdn.com/avatars-nzmyyEKgsE0lHqnb...</td>\n",
       "      <td>True</td>\n",
       "      <td>2021-09-24T04:05:57Z</td>\n",
       "      <td>user</td>\n",
       "    </tr>\n",
       "    <tr>\n",
       "      <th>1312</th>\n",
       "      <td>Alessia Cara</td>\n",
       "      <td>Alessia Cara</td>\n",
       "      <td>296514710</td>\n",
       "      <td>NaN</td>\n",
       "      <td>NaN</td>\n",
       "      <td>73949</td>\n",
       "      <td>https://soundcloud.com/alessiacara</td>\n",
       "      <td>https://i1.sndcdn.com/avatars-nzmyyEKgsE0lHqnb...</td>\n",
       "      <td>True</td>\n",
       "      <td>2021-09-24T04:05:57Z</td>\n",
       "      <td>user</td>\n",
       "    </tr>\n",
       "  </tbody>\n",
       "</table>\n",
       "<p>1313 rows × 11 columns</p>\n",
       "</div>"
      ],
      "text/plain": [
       "           username     full_name         id                city country_code  \\\n",
       "0            Assala  Assala Nasri  102433987                 NaN          NaN   \n",
       "1        Levi Patel    Levi Patel    1776079            Auckland           NZ   \n",
       "2     Alice Baldwin           NaN   93750493              Berlin          NaN   \n",
       "3     Simeon Walker     Leeds, UK  130872163  Pianist & Composer          NaN   \n",
       "4            Serein           NaN       1871                 NaN           GB   \n",
       "...             ...           ...        ...                 ...          ...   \n",
       "1308   Alessia Cara  Alessia Cara  296514710                 NaN          NaN   \n",
       "1309   Alessia Cara  Alessia Cara  296514710                 NaN          NaN   \n",
       "1310   Alessia Cara  Alessia Cara  296514710                 NaN          NaN   \n",
       "1311   Alessia Cara  Alessia Cara  296514710                 NaN          NaN   \n",
       "1312   Alessia Cara  Alessia Cara  296514710                 NaN          NaN   \n",
       "\n",
       "      followers_count                             permalink_url  \\\n",
       "0              353686     https://soundcloud.com/assalaofficial   \n",
       "1               13476          https://soundcloud.com/levipatel   \n",
       "2                4441      https://soundcloud.com/alice_baldwin   \n",
       "3                4944  https://soundcloud.com/simeonwalkermusic   \n",
       "4                8044             https://soundcloud.com/serein   \n",
       "...               ...                                       ...   \n",
       "1308            73949        https://soundcloud.com/alessiacara   \n",
       "1309            73949        https://soundcloud.com/alessiacara   \n",
       "1310            73949        https://soundcloud.com/alessiacara   \n",
       "1311            73949        https://soundcloud.com/alessiacara   \n",
       "1312            73949        https://soundcloud.com/alessiacara   \n",
       "\n",
       "                                             avatar_url  verified  \\\n",
       "0     https://i1.sndcdn.com/avatars-000459010359-q41...      True   \n",
       "1     https://i1.sndcdn.com/avatars-000660682205-k0g...     False   \n",
       "2     https://i1.sndcdn.com/avatars-LcqLIYPOHpKctU5z...     False   \n",
       "3     https://i1.sndcdn.com/avatars-gvVb4EzELDpbBFdx...     False   \n",
       "4     https://i1.sndcdn.com/avatars-000154943922-qzz...      True   \n",
       "...                                                 ...       ...   \n",
       "1308  https://i1.sndcdn.com/avatars-nzmyyEKgsE0lHqnb...      True   \n",
       "1309  https://i1.sndcdn.com/avatars-nzmyyEKgsE0lHqnb...      True   \n",
       "1310  https://i1.sndcdn.com/avatars-nzmyyEKgsE0lHqnb...      True   \n",
       "1311  https://i1.sndcdn.com/avatars-nzmyyEKgsE0lHqnb...      True   \n",
       "1312  https://i1.sndcdn.com/avatars-nzmyyEKgsE0lHqnb...      True   \n",
       "\n",
       "             last_modified  kind  \n",
       "0     2021-10-03T00:00:01Z  user  \n",
       "1     2020-02-25T06:26:57Z  user  \n",
       "2     2021-09-13T10:49:41Z  user  \n",
       "3     2021-10-29T07:16:23Z  user  \n",
       "4     2021-10-04T15:26:43Z  user  \n",
       "...                    ...   ...  \n",
       "1308  2021-09-24T04:05:57Z  user  \n",
       "1309  2021-09-24T04:05:57Z  user  \n",
       "1310  2021-09-24T04:05:57Z  user  \n",
       "1311  2021-09-24T04:05:57Z  user  \n",
       "1312  2021-09-24T04:05:57Z  user  \n",
       "\n",
       "[1313 rows x 11 columns]"
      ]
     },
     "execution_count": 2,
     "metadata": {},
     "output_type": "execute_result"
    }
   ],
   "source": [
    "# Đọc file Users.csv\n",
    "filename = 'Users.csv' \n",
    "user_df = pd.read_csv(filename, header = 0, encoding = 'utf-8')\n",
    "user_df"
   ]
  },
  {
   "cell_type": "code",
   "execution_count": 3,
   "id": "0cabf175",
   "metadata": {},
   "outputs": [
    {
     "name": "stdout",
     "output_type": "stream",
     "text": [
      "1313 11\n"
     ]
    }
   ],
   "source": [
    "num_rows = len(user_df.index)\n",
    "num_cols = len(user_df.columns)\n",
    "print(num_rows, num_cols)"
   ]
  },
  {
   "cell_type": "markdown",
   "id": "f7df33e7",
   "metadata": {},
   "source": [
    "**Như vậy dữ liệu User có 1313 dòng và 10 cột.**"
   ]
  },
  {
   "cell_type": "markdown",
   "id": "8c6643db",
   "metadata": {},
   "source": [
    "2. Dữ liệu mỗi cột có bị lặp không?"
   ]
  },
  {
   "cell_type": "code",
   "execution_count": 4,
   "id": "c8402eb1",
   "metadata": {},
   "outputs": [
    {
     "name": "stdout",
     "output_type": "stream",
     "text": [
      "831\n"
     ]
    }
   ],
   "source": [
    "count_duplicated = user_df.duplicated(keep = False).sum()\n",
    "print(count_duplicated)"
   ]
  },
  {
   "cell_type": "markdown",
   "id": "47433a5f",
   "metadata": {},
   "source": [
    "Như ta đã thấy có khá nhiều dữ liệu bị trùng. Như vậy ta sẽ xoá bớt những dữ liệu bị trùng và những cột không cần thiết."
   ]
  },
  {
   "cell_type": "code",
   "execution_count": 5,
   "id": "09bd967b",
   "metadata": {},
   "outputs": [
    {
     "data": {
      "text/html": [
       "<div>\n",
       "<style scoped>\n",
       "    .dataframe tbody tr th:only-of-type {\n",
       "        vertical-align: middle;\n",
       "    }\n",
       "\n",
       "    .dataframe tbody tr th {\n",
       "        vertical-align: top;\n",
       "    }\n",
       "\n",
       "    .dataframe thead th {\n",
       "        text-align: right;\n",
       "    }\n",
       "</style>\n",
       "<table border=\"1\" class=\"dataframe\">\n",
       "  <thead>\n",
       "    <tr style=\"text-align: right;\">\n",
       "      <th></th>\n",
       "      <th>username</th>\n",
       "      <th>full_name</th>\n",
       "      <th>id</th>\n",
       "      <th>city</th>\n",
       "      <th>followers_count</th>\n",
       "      <th>permalink_url</th>\n",
       "      <th>avatar_url</th>\n",
       "      <th>last_modified</th>\n",
       "    </tr>\n",
       "  </thead>\n",
       "  <tbody>\n",
       "    <tr>\n",
       "      <th>0</th>\n",
       "      <td>Assala</td>\n",
       "      <td>Assala Nasri</td>\n",
       "      <td>102433987</td>\n",
       "      <td>NaN</td>\n",
       "      <td>353686</td>\n",
       "      <td>https://soundcloud.com/assalaofficial</td>\n",
       "      <td>https://i1.sndcdn.com/avatars-000459010359-q41...</td>\n",
       "      <td>2021-10-03T00:00:01Z</td>\n",
       "    </tr>\n",
       "    <tr>\n",
       "      <th>1</th>\n",
       "      <td>Levi Patel</td>\n",
       "      <td>Levi Patel</td>\n",
       "      <td>1776079</td>\n",
       "      <td>Auckland</td>\n",
       "      <td>13476</td>\n",
       "      <td>https://soundcloud.com/levipatel</td>\n",
       "      <td>https://i1.sndcdn.com/avatars-000660682205-k0g...</td>\n",
       "      <td>2020-02-25T06:26:57Z</td>\n",
       "    </tr>\n",
       "    <tr>\n",
       "      <th>2</th>\n",
       "      <td>Alice Baldwin</td>\n",
       "      <td>NaN</td>\n",
       "      <td>93750493</td>\n",
       "      <td>Berlin</td>\n",
       "      <td>4441</td>\n",
       "      <td>https://soundcloud.com/alice_baldwin</td>\n",
       "      <td>https://i1.sndcdn.com/avatars-LcqLIYPOHpKctU5z...</td>\n",
       "      <td>2021-09-13T10:49:41Z</td>\n",
       "    </tr>\n",
       "    <tr>\n",
       "      <th>3</th>\n",
       "      <td>Simeon Walker</td>\n",
       "      <td>Leeds, UK</td>\n",
       "      <td>130872163</td>\n",
       "      <td>Pianist &amp; Composer</td>\n",
       "      <td>4944</td>\n",
       "      <td>https://soundcloud.com/simeonwalkermusic</td>\n",
       "      <td>https://i1.sndcdn.com/avatars-gvVb4EzELDpbBFdx...</td>\n",
       "      <td>2021-10-29T07:16:23Z</td>\n",
       "    </tr>\n",
       "    <tr>\n",
       "      <th>4</th>\n",
       "      <td>Serein</td>\n",
       "      <td>NaN</td>\n",
       "      <td>1871</td>\n",
       "      <td>NaN</td>\n",
       "      <td>8044</td>\n",
       "      <td>https://soundcloud.com/serein</td>\n",
       "      <td>https://i1.sndcdn.com/avatars-000154943922-qzz...</td>\n",
       "      <td>2021-10-04T15:26:43Z</td>\n",
       "    </tr>\n",
       "    <tr>\n",
       "      <th>...</th>\n",
       "      <td>...</td>\n",
       "      <td>...</td>\n",
       "      <td>...</td>\n",
       "      <td>...</td>\n",
       "      <td>...</td>\n",
       "      <td>...</td>\n",
       "      <td>...</td>\n",
       "      <td>...</td>\n",
       "    </tr>\n",
       "    <tr>\n",
       "      <th>1297</th>\n",
       "      <td>shnaebidy</td>\n",
       "      <td>NaN</td>\n",
       "      <td>46747904</td>\n",
       "      <td>Scotland</td>\n",
       "      <td>1786</td>\n",
       "      <td>https://soundcloud.com/be-ady-eye</td>\n",
       "      <td>https://i1.sndcdn.com/avatars-000451405896-kvr...</td>\n",
       "      <td>2018-05-31T14:02:49Z</td>\n",
       "    </tr>\n",
       "    <tr>\n",
       "      <th>1298</th>\n",
       "      <td>Ed Sheeran</td>\n",
       "      <td>Ed Sheeran</td>\n",
       "      <td>3685019</td>\n",
       "      <td>NaN</td>\n",
       "      <td>2369964</td>\n",
       "      <td>https://soundcloud.com/edsheeran</td>\n",
       "      <td>https://i1.sndcdn.com/avatars-KRxzijkzJ63MipoA...</td>\n",
       "      <td>2021-10-28T23:05:42Z</td>\n",
       "    </tr>\n",
       "    <tr>\n",
       "      <th>1299</th>\n",
       "      <td>Tylerinacoma</td>\n",
       "      <td>TYLER GLENN</td>\n",
       "      <td>6455125</td>\n",
       "      <td>U/S/A/</td>\n",
       "      <td>1600</td>\n",
       "      <td>https://soundcloud.com/tylerinacoma</td>\n",
       "      <td>https://i1.sndcdn.com/avatars-000029015425-alt...</td>\n",
       "      <td>2012-12-20T05:20:13Z</td>\n",
       "    </tr>\n",
       "    <tr>\n",
       "      <th>1300</th>\n",
       "      <td>ADDAL</td>\n",
       "      <td>NaN</td>\n",
       "      <td>9969027</td>\n",
       "      <td>Milan</td>\n",
       "      <td>122529</td>\n",
       "      <td>https://soundcloud.com/addal</td>\n",
       "      <td>https://i1.sndcdn.com/avatars-000696909823-v6l...</td>\n",
       "      <td>2021-09-27T18:45:37Z</td>\n",
       "    </tr>\n",
       "    <tr>\n",
       "      <th>1303</th>\n",
       "      <td>Alessia Cara</td>\n",
       "      <td>Alessia Cara</td>\n",
       "      <td>296514710</td>\n",
       "      <td>NaN</td>\n",
       "      <td>73949</td>\n",
       "      <td>https://soundcloud.com/alessiacara</td>\n",
       "      <td>https://i1.sndcdn.com/avatars-nzmyyEKgsE0lHqnb...</td>\n",
       "      <td>2021-09-24T04:05:57Z</td>\n",
       "    </tr>\n",
       "  </tbody>\n",
       "</table>\n",
       "<p>694 rows × 8 columns</p>\n",
       "</div>"
      ],
      "text/plain": [
       "           username     full_name         id                city  \\\n",
       "0            Assala  Assala Nasri  102433987                 NaN   \n",
       "1        Levi Patel    Levi Patel    1776079            Auckland   \n",
       "2     Alice Baldwin           NaN   93750493              Berlin   \n",
       "3     Simeon Walker     Leeds, UK  130872163  Pianist & Composer   \n",
       "4            Serein           NaN       1871                 NaN   \n",
       "...             ...           ...        ...                 ...   \n",
       "1297      shnaebidy           NaN   46747904           Scotland    \n",
       "1298     Ed Sheeran    Ed Sheeran    3685019                 NaN   \n",
       "1299   Tylerinacoma   TYLER GLENN    6455125              U/S/A/   \n",
       "1300          ADDAL           NaN    9969027              Milan    \n",
       "1303   Alessia Cara  Alessia Cara  296514710                 NaN   \n",
       "\n",
       "      followers_count                             permalink_url  \\\n",
       "0              353686     https://soundcloud.com/assalaofficial   \n",
       "1               13476          https://soundcloud.com/levipatel   \n",
       "2                4441      https://soundcloud.com/alice_baldwin   \n",
       "3                4944  https://soundcloud.com/simeonwalkermusic   \n",
       "4                8044             https://soundcloud.com/serein   \n",
       "...               ...                                       ...   \n",
       "1297             1786         https://soundcloud.com/be-ady-eye   \n",
       "1298          2369964          https://soundcloud.com/edsheeran   \n",
       "1299             1600       https://soundcloud.com/tylerinacoma   \n",
       "1300           122529              https://soundcloud.com/addal   \n",
       "1303            73949        https://soundcloud.com/alessiacara   \n",
       "\n",
       "                                             avatar_url         last_modified  \n",
       "0     https://i1.sndcdn.com/avatars-000459010359-q41...  2021-10-03T00:00:01Z  \n",
       "1     https://i1.sndcdn.com/avatars-000660682205-k0g...  2020-02-25T06:26:57Z  \n",
       "2     https://i1.sndcdn.com/avatars-LcqLIYPOHpKctU5z...  2021-09-13T10:49:41Z  \n",
       "3     https://i1.sndcdn.com/avatars-gvVb4EzELDpbBFdx...  2021-10-29T07:16:23Z  \n",
       "4     https://i1.sndcdn.com/avatars-000154943922-qzz...  2021-10-04T15:26:43Z  \n",
       "...                                                 ...                   ...  \n",
       "1297  https://i1.sndcdn.com/avatars-000451405896-kvr...  2018-05-31T14:02:49Z  \n",
       "1298  https://i1.sndcdn.com/avatars-KRxzijkzJ63MipoA...  2021-10-28T23:05:42Z  \n",
       "1299  https://i1.sndcdn.com/avatars-000029015425-alt...  2012-12-20T05:20:13Z  \n",
       "1300  https://i1.sndcdn.com/avatars-000696909823-v6l...  2021-09-27T18:45:37Z  \n",
       "1303  https://i1.sndcdn.com/avatars-nzmyyEKgsE0lHqnb...  2021-09-24T04:05:57Z  \n",
       "\n",
       "[694 rows x 8 columns]"
      ]
     },
     "execution_count": 5,
     "metadata": {},
     "output_type": "execute_result"
    }
   ],
   "source": [
    "user_df = user_df.drop_duplicates()\n",
    "user_df = user_df.drop(['country_code','kind', 'verified'], axis = 1)\n",
    "user_df"
   ]
  },
  {
   "cell_type": "markdown",
   "id": "a181c73e",
   "metadata": {},
   "source": [
    "3. Dữ liệu nói lên điều gì?"
   ]
  },
  {
   "cell_type": "markdown",
   "id": "928e06e0",
   "metadata": {},
   "source": [
    "Ta bắt đầu tìm hiểu từng cột, qua các tên cột và dữ liệu của nó, ta thấy rằng:\n",
    "- username: Tên người dùng user\n",
    "- full_name: Họ và tên đầy đủ của người dùng\n",
    "- id: ID của User\n",
    "- city: Thành phố nơi User sống\n",
    "- followers_count: Số lượng người theo dõi User này\n",
    "- permalink_url: Link dẫn đến trang cá nhân của họ\n",
    "- avatar_url: Link hình ảnh avatar của User\n",
    "- last_modified: Thời điểm lần cuối User hoạt động chỉnh sửa"
   ]
  },
  {
   "cell_type": "markdown",
   "id": "6606ec44",
   "metadata": {},
   "source": [
    "Các nhân viên phân tích dữ liệu sẽ quan tâm gì đến trong bảng này?\n",
    "Thì ta giả định rằng để phân phối sản phẩm theo từng quốc gia, họ sẽ quan tâm đến các cột: `city`, `follower_count`"
   ]
  },
  {
   "cell_type": "markdown",
   "id": "270f27f7",
   "metadata": {},
   "source": [
    "Ta sẽ vẽ biểu đồ ở 2 cột này. Do số lượng dữ liệu khá nhiều > 500 nên ta sẽ chỉ vẽ biểu đồ cho khoảng chừng 20 -30 mẫu dữ liệu trong DataFrame."
   ]
  },
  {
   "cell_type": "markdown",
   "id": "c2ee36b5",
   "metadata": {},
   "source": [
    "a. Cột City:"
   ]
  },
  {
   "cell_type": "code",
   "execution_count": 27,
   "id": "c7e5e3e8",
   "metadata": {},
   "outputs": [
    {
     "data": {
      "text/plain": [
       "<AxesSubplot:title={'center':'City that Users lived'}>"
      ]
     },
     "execution_count": 27,
     "metadata": {},
     "output_type": "execute_result"
    },
    {
     "data": {
      "image/png": "[encoded data removed]",
      "text/plain": [
       "<Figure size 1440x720 with 1 Axes>"
      ]
     },
     "metadata": {
      "needs_background": "light"
     },
     "output_type": "display_data"
    }
   ],
   "source": [
    "# Ở cột city:\n",
    "a = user_df['city'].dropna()\n",
    "f = plt.figure()\n",
    "f.set_figwidth(20)\n",
    "f.set_figheight(10)\n",
    "a[0:45].value_counts().plot(kind='bar', title = 'City that Users come from')"
   ]
  },
  {
   "cell_type": "markdown",
   "id": "91c50e10",
   "metadata": {},
   "source": [
    "b. Cột Followes_count:"
   ]
  },
  {
   "cell_type": "code",
   "execution_count": 26,
   "id": "709cdca3",
   "metadata": {},
   "outputs": [
    {
     "data": {
      "text/plain": [
       "<AxesSubplot:title={'center':'Followers Each User'}, xlabel='username'>"
      ]
     },
     "execution_count": 26,
     "metadata": {},
     "output_type": "execute_result"
    },
    {
     "data": {
      "image/png": "[encoded data removed]",
      "text/plain": [
       "<Figure size 720x720 with 1 Axes>"
      ]
     },
     "metadata": {
      "needs_background": "light"
     },
     "output_type": "display_data"
    }
   ],
   "source": [
    "# Ở cột Follower_count\n",
    "# Lấy 10 dữ liệu đầu tiên\n",
    "a = user_df[1:10]\n",
    "a.plot(x = 'username', y = 'followers_count', kind = 'bar', figsize = (10,10), title = 'Followers Each User')"
   ]
  },
  {
   "cell_type": "markdown",
   "id": "f611d274",
   "metadata": {},
   "source": [
    "**Kết luận**: Phân tích viên có thể dựa vào biều đồ trên để đánh giá người dùng rằng:\n",
    "- Những người dùng từ những quốc gia nào, phần lớn họ ở 1 quốc gia hay nhiều quốc gia, chủ yếu ở châu lục nào trên thế giới\n",
    "- Những lượt theo dõi từ những người dùng cho thấy người dùng đang quan tâm về những người dùng post âm nhạc gì, quốc gia nào..."
   ]
  },
  {
   "cell_type": "markdown",
   "id": "0634211a",
   "metadata": {},
   "source": [
    "### Phần 2: Dữ liệu Tracks"
   ]
  },
  {
   "cell_type": "markdown",
   "id": "bd6d8285",
   "metadata": {},
   "source": [
    "#### Thư viện sử dụng: "
   ]
  },
  {
   "cell_type": "code",
   "execution_count": 8,
   "id": "f5122575",
   "metadata": {},
   "outputs": [],
   "source": [
    "import pandas as pd\n",
    "import numpy as np\n",
    "from datetime import datetime\n",
    "from matplotlib import pyplot as plt"
   ]
  },
  {
   "cell_type": "markdown",
   "id": "df8b1ec6",
   "metadata": {},
   "source": [
    "#### Khám phá chi tiết những dữ liệu biết nói:"
   ]
  },
  {
   "cell_type": "markdown",
   "id": "5392dda9",
   "metadata": {},
   "source": [
    "1. Dữ liệu có bao nhiêu dòng và bao nhiêu cột?"
   ]
  },
  {
   "cell_type": "code",
   "execution_count": 9,
   "id": "2ae9f3e6",
   "metadata": {},
   "outputs": [
    {
     "data": {
      "text/html": [
       "<div>\n",
       "<style scoped>\n",
       "    .dataframe tbody tr th:only-of-type {\n",
       "        vertical-align: middle;\n",
       "    }\n",
       "\n",
       "    .dataframe tbody tr th {\n",
       "        vertical-align: top;\n",
       "    }\n",
       "\n",
       "    .dataframe thead th {\n",
       "        text-align: right;\n",
       "    }\n",
       "</style>\n",
       "<table border=\"1\" class=\"dataframe\">\n",
       "  <thead>\n",
       "    <tr style=\"text-align: right;\">\n",
       "      <th></th>\n",
       "      <th>title</th>\n",
       "      <th>id</th>\n",
       "      <th>genre</th>\n",
       "      <th>caption</th>\n",
       "      <th>description</th>\n",
       "      <th>permalink_url</th>\n",
       "      <th>download_count</th>\n",
       "      <th>last_modified</th>\n",
       "      <th>artwork_url</th>\n",
       "      <th>created_at</th>\n",
       "      <th>track_format</th>\n",
       "      <th>kind</th>\n",
       "    </tr>\n",
       "  </thead>\n",
       "  <tbody>\n",
       "    <tr>\n",
       "      <th>0</th>\n",
       "      <td>Ya A'alem | أصالة - يا عالم</td>\n",
       "      <td>338894518</td>\n",
       "      <td>NaN</td>\n",
       "      <td>NaN</td>\n",
       "      <td>يا عالم هشوفه ولو صدفة يوم.. لابيجيلي نوم ..\\n...</td>\n",
       "      <td>https://soundcloud.com/assalaofficial/yaaalem</td>\n",
       "      <td>0.0</td>\n",
       "      <td>2021-10-30T12:18:38Z</td>\n",
       "      <td>https://i1.sndcdn.com/artworks-000239422855-ug...</td>\n",
       "      <td>2017-08-21T22:39:30Z</td>\n",
       "      <td>single-track</td>\n",
       "      <td>track</td>\n",
       "    </tr>\n",
       "    <tr>\n",
       "      <th>1</th>\n",
       "      <td>As she passes</td>\n",
       "      <td>191576787</td>\n",
       "      <td>Piano</td>\n",
       "      <td>NaN</td>\n",
       "      <td>I took some time away to write a short collect...</td>\n",
       "      <td>https://soundcloud.com/levipatel/as-she-passes</td>\n",
       "      <td>0.0</td>\n",
       "      <td>2021-09-19T16:33:04Z</td>\n",
       "      <td>https://i1.sndcdn.com/artworks-000107020657-dc...</td>\n",
       "      <td>2015-02-17T12:24:09Z</td>\n",
       "      <td>single-track</td>\n",
       "      <td>track</td>\n",
       "    </tr>\n",
       "    <tr>\n",
       "      <th>2</th>\n",
       "      <td>Was am Ende</td>\n",
       "      <td>237941720</td>\n",
       "      <td>Classical Crossover</td>\n",
       "      <td>NaN</td>\n",
       "      <td>Für Lena † 2011\\n___\\n\\nher short life ended s...</td>\n",
       "      <td>https://soundcloud.com/alice_baldwin/was-am-ende</td>\n",
       "      <td>0.0</td>\n",
       "      <td>2021-07-26T20:14:50Z</td>\n",
       "      <td>https://i1.sndcdn.com/artworks-fJzCiYUdpj5i-0-...</td>\n",
       "      <td>2015-12-17T07:26:37Z</td>\n",
       "      <td>single-track</td>\n",
       "      <td>track</td>\n",
       "    </tr>\n",
       "    <tr>\n",
       "      <th>3</th>\n",
       "      <td>January</td>\n",
       "      <td>199486709</td>\n",
       "      <td>Piano</td>\n",
       "      <td>NaN</td>\n",
       "      <td>Watch the video here:\\n\\nhttps://www.youtube.c...</td>\n",
       "      <td>https://soundcloud.com/simeonwalkermusic/january</td>\n",
       "      <td>0.0</td>\n",
       "      <td>2021-10-31T13:45:23Z</td>\n",
       "      <td>https://i1.sndcdn.com/artworks-000112483597-1v...</td>\n",
       "      <td>2015-04-06T11:37:10Z</td>\n",
       "      <td>single-track</td>\n",
       "      <td>track</td>\n",
       "    </tr>\n",
       "    <tr>\n",
       "      <th>4</th>\n",
       "      <td>To Speak Of Solitude</td>\n",
       "      <td>59702269</td>\n",
       "      <td>Ambient</td>\n",
       "      <td>NaN</td>\n",
       "      <td>Full stream and free download of the opening t...</td>\n",
       "      <td>https://soundcloud.com/serein/to-speak-of-soli...</td>\n",
       "      <td>10422.0</td>\n",
       "      <td>2021-10-15T00:49:41Z</td>\n",
       "      <td>https://i1.sndcdn.com/artworks-000351225852-yj...</td>\n",
       "      <td>2012-09-13T10:32:06Z</td>\n",
       "      <td>single-track</td>\n",
       "      <td>track</td>\n",
       "    </tr>\n",
       "    <tr>\n",
       "      <th>...</th>\n",
       "      <td>...</td>\n",
       "      <td>...</td>\n",
       "      <td>...</td>\n",
       "      <td>...</td>\n",
       "      <td>...</td>\n",
       "      <td>...</td>\n",
       "      <td>...</td>\n",
       "      <td>...</td>\n",
       "      <td>...</td>\n",
       "      <td>...</td>\n",
       "      <td>...</td>\n",
       "      <td>...</td>\n",
       "    </tr>\n",
       "    <tr>\n",
       "      <th>1308</th>\n",
       "      <td>Rooting For You (Live Off The Floor)</td>\n",
       "      <td>855361237</td>\n",
       "      <td>Pop</td>\n",
       "      <td>NaN</td>\n",
       "      <td>NaN</td>\n",
       "      <td>https://soundcloud.com/alessiacara/rooting-for...</td>\n",
       "      <td>0.0</td>\n",
       "      <td>2021-10-07T23:47:50Z</td>\n",
       "      <td>https://i1.sndcdn.com/artworks-g79adAl1WhP0-0-...</td>\n",
       "      <td>2020-07-10T03:19:22Z</td>\n",
       "      <td>single-track</td>\n",
       "      <td>track</td>\n",
       "    </tr>\n",
       "    <tr>\n",
       "      <th>1309</th>\n",
       "      <td>October (Live Off The Floor)</td>\n",
       "      <td>855361597</td>\n",
       "      <td>Pop</td>\n",
       "      <td>NaN</td>\n",
       "      <td>NaN</td>\n",
       "      <td>https://soundcloud.com/alessiacara/october-liv...</td>\n",
       "      <td>0.0</td>\n",
       "      <td>2021-10-07T23:48:12Z</td>\n",
       "      <td>https://i1.sndcdn.com/artworks-Yzi8Tz7pcjXN-0-...</td>\n",
       "      <td>2020-07-10T03:19:48Z</td>\n",
       "      <td>single-track</td>\n",
       "      <td>track</td>\n",
       "    </tr>\n",
       "    <tr>\n",
       "      <th>1310</th>\n",
       "      <td>Scars To Your Beautiful (Live Off The Floor (B...</td>\n",
       "      <td>855361777</td>\n",
       "      <td>Pop</td>\n",
       "      <td>NaN</td>\n",
       "      <td>NaN</td>\n",
       "      <td>https://soundcloud.com/alessiacara/scars-to-yo...</td>\n",
       "      <td>0.0</td>\n",
       "      <td>2021-10-07T23:45:28Z</td>\n",
       "      <td>https://i1.sndcdn.com/artworks-K6ZreVz1fHhL-0-...</td>\n",
       "      <td>2020-07-10T03:20:01Z</td>\n",
       "      <td>single-track</td>\n",
       "      <td>track</td>\n",
       "    </tr>\n",
       "    <tr>\n",
       "      <th>1311</th>\n",
       "      <td>Here (Live Off The Floor (Bonus Track))</td>\n",
       "      <td>855361327</td>\n",
       "      <td>Pop</td>\n",
       "      <td>NaN</td>\n",
       "      <td>NaN</td>\n",
       "      <td>https://soundcloud.com/alessiacara/here-live-o...</td>\n",
       "      <td>0.0</td>\n",
       "      <td>2021-10-07T23:49:23Z</td>\n",
       "      <td>https://i1.sndcdn.com/artworks-hBX74Rqgya8S-0-...</td>\n",
       "      <td>2020-07-10T03:19:29Z</td>\n",
       "      <td>single-track</td>\n",
       "      <td>track</td>\n",
       "    </tr>\n",
       "    <tr>\n",
       "      <th>1312</th>\n",
       "      <td>I Choose (From The Netflix Original Film The W...</td>\n",
       "      <td>855361192</td>\n",
       "      <td>Pop</td>\n",
       "      <td>NaN</td>\n",
       "      <td>NaN</td>\n",
       "      <td>https://soundcloud.com/alessiacara/i-choose-fr...</td>\n",
       "      <td>0.0</td>\n",
       "      <td>2021-10-07T23:45:51Z</td>\n",
       "      <td>https://i1.sndcdn.com/artworks-Zzxx0FLRkSXD-0-...</td>\n",
       "      <td>2020-07-10T03:19:17Z</td>\n",
       "      <td>single-track</td>\n",
       "      <td>track</td>\n",
       "    </tr>\n",
       "  </tbody>\n",
       "</table>\n",
       "<p>1313 rows × 12 columns</p>\n",
       "</div>"
      ],
      "text/plain": [
       "                                                  title         id  \\\n",
       "0                           Ya A'alem | أصالة - يا عالم  338894518   \n",
       "1                                         As she passes  191576787   \n",
       "2                                           Was am Ende  237941720   \n",
       "3                                               January  199486709   \n",
       "4                                  To Speak Of Solitude   59702269   \n",
       "...                                                 ...        ...   \n",
       "1308               Rooting For You (Live Off The Floor)  855361237   \n",
       "1309                       October (Live Off The Floor)  855361597   \n",
       "1310  Scars To Your Beautiful (Live Off The Floor (B...  855361777   \n",
       "1311            Here (Live Off The Floor (Bonus Track))  855361327   \n",
       "1312  I Choose (From The Netflix Original Film The W...  855361192   \n",
       "\n",
       "                    genre  caption  \\\n",
       "0                     NaN      NaN   \n",
       "1                   Piano      NaN   \n",
       "2     Classical Crossover      NaN   \n",
       "3                   Piano      NaN   \n",
       "4                 Ambient      NaN   \n",
       "...                   ...      ...   \n",
       "1308                  Pop      NaN   \n",
       "1309                  Pop      NaN   \n",
       "1310                  Pop      NaN   \n",
       "1311                  Pop      NaN   \n",
       "1312                  Pop      NaN   \n",
       "\n",
       "                                            description  \\\n",
       "0     يا عالم هشوفه ولو صدفة يوم.. لابيجيلي نوم ..\\n...   \n",
       "1     I took some time away to write a short collect...   \n",
       "2     Für Lena † 2011\\n___\\n\\nher short life ended s...   \n",
       "3     Watch the video here:\\n\\nhttps://www.youtube.c...   \n",
       "4     Full stream and free download of the opening t...   \n",
       "...                                                 ...   \n",
       "1308                                                NaN   \n",
       "1309                                                NaN   \n",
       "1310                                                NaN   \n",
       "1311                                                NaN   \n",
       "1312                                                NaN   \n",
       "\n",
       "                                          permalink_url  download_count  \\\n",
       "0         https://soundcloud.com/assalaofficial/yaaalem             0.0   \n",
       "1        https://soundcloud.com/levipatel/as-she-passes             0.0   \n",
       "2      https://soundcloud.com/alice_baldwin/was-am-ende             0.0   \n",
       "3      https://soundcloud.com/simeonwalkermusic/january             0.0   \n",
       "4     https://soundcloud.com/serein/to-speak-of-soli...         10422.0   \n",
       "...                                                 ...             ...   \n",
       "1308  https://soundcloud.com/alessiacara/rooting-for...             0.0   \n",
       "1309  https://soundcloud.com/alessiacara/october-liv...             0.0   \n",
       "1310  https://soundcloud.com/alessiacara/scars-to-yo...             0.0   \n",
       "1311  https://soundcloud.com/alessiacara/here-live-o...             0.0   \n",
       "1312  https://soundcloud.com/alessiacara/i-choose-fr...             0.0   \n",
       "\n",
       "             last_modified                                        artwork_url  \\\n",
       "0     2021-10-30T12:18:38Z  https://i1.sndcdn.com/artworks-000239422855-ug...   \n",
       "1     2021-09-19T16:33:04Z  https://i1.sndcdn.com/artworks-000107020657-dc...   \n",
       "2     2021-07-26T20:14:50Z  https://i1.sndcdn.com/artworks-fJzCiYUdpj5i-0-...   \n",
       "3     2021-10-31T13:45:23Z  https://i1.sndcdn.com/artworks-000112483597-1v...   \n",
       "4     2021-10-15T00:49:41Z  https://i1.sndcdn.com/artworks-000351225852-yj...   \n",
       "...                    ...                                                ...   \n",
       "1308  2021-10-07T23:47:50Z  https://i1.sndcdn.com/artworks-g79adAl1WhP0-0-...   \n",
       "1309  2021-10-07T23:48:12Z  https://i1.sndcdn.com/artworks-Yzi8Tz7pcjXN-0-...   \n",
       "1310  2021-10-07T23:45:28Z  https://i1.sndcdn.com/artworks-K6ZreVz1fHhL-0-...   \n",
       "1311  2021-10-07T23:49:23Z  https://i1.sndcdn.com/artworks-hBX74Rqgya8S-0-...   \n",
       "1312  2021-10-07T23:45:51Z  https://i1.sndcdn.com/artworks-Zzxx0FLRkSXD-0-...   \n",
       "\n",
       "                created_at  track_format   kind  \n",
       "0     2017-08-21T22:39:30Z  single-track  track  \n",
       "1     2015-02-17T12:24:09Z  single-track  track  \n",
       "2     2015-12-17T07:26:37Z  single-track  track  \n",
       "3     2015-04-06T11:37:10Z  single-track  track  \n",
       "4     2012-09-13T10:32:06Z  single-track  track  \n",
       "...                    ...           ...    ...  \n",
       "1308  2020-07-10T03:19:22Z  single-track  track  \n",
       "1309  2020-07-10T03:19:48Z  single-track  track  \n",
       "1310  2020-07-10T03:20:01Z  single-track  track  \n",
       "1311  2020-07-10T03:19:29Z  single-track  track  \n",
       "1312  2020-07-10T03:19:17Z  single-track  track  \n",
       "\n",
       "[1313 rows x 12 columns]"
      ]
     },
     "execution_count": 9,
     "metadata": {},
     "output_type": "execute_result"
    }
   ],
   "source": [
    "track_df = pd.read_csv(\"tracks.csv\", encoding = \"utf-8\")\n",
    "track_df"
   ]
  },
  {
   "cell_type": "code",
   "execution_count": 10,
   "id": "c71e1c36",
   "metadata": {},
   "outputs": [
    {
     "name": "stdout",
     "output_type": "stream",
     "text": [
      "1313 12\n"
     ]
    }
   ],
   "source": [
    "num_rows = len(track_df.index)\n",
    "num_cols = len(track_df.columns)\n",
    "print(num_rows, num_cols)"
   ]
  },
  {
   "cell_type": "markdown",
   "id": "4e9ffddc",
   "metadata": {},
   "source": [
    "**Như vậy dữ liệu Track có 1313 dòng và 12 cột.**"
   ]
  },
  {
   "cell_type": "markdown",
   "id": "d63198c2",
   "metadata": {},
   "source": [
    "2. Dữ liệu mỗi cột có bị lặp không?"
   ]
  },
  {
   "cell_type": "code",
   "execution_count": 11,
   "id": "c9c6006d",
   "metadata": {},
   "outputs": [
    {
     "name": "stdout",
     "output_type": "stream",
     "text": [
      "566\n"
     ]
    }
   ],
   "source": [
    "count_duplicated = track_df.duplicated(keep = False).sum()\n",
    "print(count_duplicated)"
   ]
  },
  {
   "cell_type": "markdown",
   "id": "9e482948",
   "metadata": {},
   "source": [
    "Như ta đã thấy có khá nhiều dữ liệu bị trùng. Như vậy ta sẽ xoá bớt những dữ liệu bị trùng và những cột không cần thiết."
   ]
  },
  {
   "cell_type": "code",
   "execution_count": 12,
   "id": "67f9f2e9",
   "metadata": {},
   "outputs": [
    {
     "data": {
      "text/html": [
       "<div>\n",
       "<style scoped>\n",
       "    .dataframe tbody tr th:only-of-type {\n",
       "        vertical-align: middle;\n",
       "    }\n",
       "\n",
       "    .dataframe tbody tr th {\n",
       "        vertical-align: top;\n",
       "    }\n",
       "\n",
       "    .dataframe thead th {\n",
       "        text-align: right;\n",
       "    }\n",
       "</style>\n",
       "<table border=\"1\" class=\"dataframe\">\n",
       "  <thead>\n",
       "    <tr style=\"text-align: right;\">\n",
       "      <th></th>\n",
       "      <th>title</th>\n",
       "      <th>id</th>\n",
       "      <th>genre</th>\n",
       "      <th>permalink_url</th>\n",
       "      <th>download_count</th>\n",
       "      <th>last_modified</th>\n",
       "      <th>artwork_url</th>\n",
       "      <th>created_at</th>\n",
       "    </tr>\n",
       "  </thead>\n",
       "  <tbody>\n",
       "    <tr>\n",
       "      <th>0</th>\n",
       "      <td>Ya A'alem | أصالة - يا عالم</td>\n",
       "      <td>338894518</td>\n",
       "      <td>NaN</td>\n",
       "      <td>https://soundcloud.com/assalaofficial/yaaalem</td>\n",
       "      <td>0.0</td>\n",
       "      <td>2021-10-30T12:18:38Z</td>\n",
       "      <td>https://i1.sndcdn.com/artworks-000239422855-ug...</td>\n",
       "      <td>2017-08-21T22:39:30Z</td>\n",
       "    </tr>\n",
       "    <tr>\n",
       "      <th>1</th>\n",
       "      <td>As she passes</td>\n",
       "      <td>191576787</td>\n",
       "      <td>Piano</td>\n",
       "      <td>https://soundcloud.com/levipatel/as-she-passes</td>\n",
       "      <td>0.0</td>\n",
       "      <td>2021-09-19T16:33:04Z</td>\n",
       "      <td>https://i1.sndcdn.com/artworks-000107020657-dc...</td>\n",
       "      <td>2015-02-17T12:24:09Z</td>\n",
       "    </tr>\n",
       "    <tr>\n",
       "      <th>2</th>\n",
       "      <td>Was am Ende</td>\n",
       "      <td>237941720</td>\n",
       "      <td>Classical Crossover</td>\n",
       "      <td>https://soundcloud.com/alice_baldwin/was-am-ende</td>\n",
       "      <td>0.0</td>\n",
       "      <td>2021-07-26T20:14:50Z</td>\n",
       "      <td>https://i1.sndcdn.com/artworks-fJzCiYUdpj5i-0-...</td>\n",
       "      <td>2015-12-17T07:26:37Z</td>\n",
       "    </tr>\n",
       "    <tr>\n",
       "      <th>3</th>\n",
       "      <td>January</td>\n",
       "      <td>199486709</td>\n",
       "      <td>Piano</td>\n",
       "      <td>https://soundcloud.com/simeonwalkermusic/january</td>\n",
       "      <td>0.0</td>\n",
       "      <td>2021-10-31T13:45:23Z</td>\n",
       "      <td>https://i1.sndcdn.com/artworks-000112483597-1v...</td>\n",
       "      <td>2015-04-06T11:37:10Z</td>\n",
       "    </tr>\n",
       "    <tr>\n",
       "      <th>4</th>\n",
       "      <td>To Speak Of Solitude</td>\n",
       "      <td>59702269</td>\n",
       "      <td>Ambient</td>\n",
       "      <td>https://soundcloud.com/serein/to-speak-of-soli...</td>\n",
       "      <td>10422.0</td>\n",
       "      <td>2021-10-15T00:49:41Z</td>\n",
       "      <td>https://i1.sndcdn.com/artworks-000351225852-yj...</td>\n",
       "      <td>2012-09-13T10:32:06Z</td>\n",
       "    </tr>\n",
       "    <tr>\n",
       "      <th>...</th>\n",
       "      <td>...</td>\n",
       "      <td>...</td>\n",
       "      <td>...</td>\n",
       "      <td>...</td>\n",
       "      <td>...</td>\n",
       "      <td>...</td>\n",
       "      <td>...</td>\n",
       "      <td>...</td>\n",
       "    </tr>\n",
       "    <tr>\n",
       "      <th>1308</th>\n",
       "      <td>Rooting For You (Live Off The Floor)</td>\n",
       "      <td>855361237</td>\n",
       "      <td>Pop</td>\n",
       "      <td>https://soundcloud.com/alessiacara/rooting-for...</td>\n",
       "      <td>0.0</td>\n",
       "      <td>2021-10-07T23:47:50Z</td>\n",
       "      <td>https://i1.sndcdn.com/artworks-g79adAl1WhP0-0-...</td>\n",
       "      <td>2020-07-10T03:19:22Z</td>\n",
       "    </tr>\n",
       "    <tr>\n",
       "      <th>1309</th>\n",
       "      <td>October (Live Off The Floor)</td>\n",
       "      <td>855361597</td>\n",
       "      <td>Pop</td>\n",
       "      <td>https://soundcloud.com/alessiacara/october-liv...</td>\n",
       "      <td>0.0</td>\n",
       "      <td>2021-10-07T23:48:12Z</td>\n",
       "      <td>https://i1.sndcdn.com/artworks-Yzi8Tz7pcjXN-0-...</td>\n",
       "      <td>2020-07-10T03:19:48Z</td>\n",
       "    </tr>\n",
       "    <tr>\n",
       "      <th>1310</th>\n",
       "      <td>Scars To Your Beautiful (Live Off The Floor (B...</td>\n",
       "      <td>855361777</td>\n",
       "      <td>Pop</td>\n",
       "      <td>https://soundcloud.com/alessiacara/scars-to-yo...</td>\n",
       "      <td>0.0</td>\n",
       "      <td>2021-10-07T23:45:28Z</td>\n",
       "      <td>https://i1.sndcdn.com/artworks-K6ZreVz1fHhL-0-...</td>\n",
       "      <td>2020-07-10T03:20:01Z</td>\n",
       "    </tr>\n",
       "    <tr>\n",
       "      <th>1311</th>\n",
       "      <td>Here (Live Off The Floor (Bonus Track))</td>\n",
       "      <td>855361327</td>\n",
       "      <td>Pop</td>\n",
       "      <td>https://soundcloud.com/alessiacara/here-live-o...</td>\n",
       "      <td>0.0</td>\n",
       "      <td>2021-10-07T23:49:23Z</td>\n",
       "      <td>https://i1.sndcdn.com/artworks-hBX74Rqgya8S-0-...</td>\n",
       "      <td>2020-07-10T03:19:29Z</td>\n",
       "    </tr>\n",
       "    <tr>\n",
       "      <th>1312</th>\n",
       "      <td>I Choose (From The Netflix Original Film The W...</td>\n",
       "      <td>855361192</td>\n",
       "      <td>Pop</td>\n",
       "      <td>https://soundcloud.com/alessiacara/i-choose-fr...</td>\n",
       "      <td>0.0</td>\n",
       "      <td>2021-10-07T23:45:51Z</td>\n",
       "      <td>https://i1.sndcdn.com/artworks-Zzxx0FLRkSXD-0-...</td>\n",
       "      <td>2020-07-10T03:19:17Z</td>\n",
       "    </tr>\n",
       "  </tbody>\n",
       "</table>\n",
       "<p>1021 rows × 8 columns</p>\n",
       "</div>"
      ],
      "text/plain": [
       "                                                  title         id  \\\n",
       "0                           Ya A'alem | أصالة - يا عالم  338894518   \n",
       "1                                         As she passes  191576787   \n",
       "2                                           Was am Ende  237941720   \n",
       "3                                               January  199486709   \n",
       "4                                  To Speak Of Solitude   59702269   \n",
       "...                                                 ...        ...   \n",
       "1308               Rooting For You (Live Off The Floor)  855361237   \n",
       "1309                       October (Live Off The Floor)  855361597   \n",
       "1310  Scars To Your Beautiful (Live Off The Floor (B...  855361777   \n",
       "1311            Here (Live Off The Floor (Bonus Track))  855361327   \n",
       "1312  I Choose (From The Netflix Original Film The W...  855361192   \n",
       "\n",
       "                    genre                                      permalink_url  \\\n",
       "0                     NaN      https://soundcloud.com/assalaofficial/yaaalem   \n",
       "1                   Piano     https://soundcloud.com/levipatel/as-she-passes   \n",
       "2     Classical Crossover   https://soundcloud.com/alice_baldwin/was-am-ende   \n",
       "3                   Piano   https://soundcloud.com/simeonwalkermusic/january   \n",
       "4                 Ambient  https://soundcloud.com/serein/to-speak-of-soli...   \n",
       "...                   ...                                                ...   \n",
       "1308                  Pop  https://soundcloud.com/alessiacara/rooting-for...   \n",
       "1309                  Pop  https://soundcloud.com/alessiacara/october-liv...   \n",
       "1310                  Pop  https://soundcloud.com/alessiacara/scars-to-yo...   \n",
       "1311                  Pop  https://soundcloud.com/alessiacara/here-live-o...   \n",
       "1312                  Pop  https://soundcloud.com/alessiacara/i-choose-fr...   \n",
       "\n",
       "      download_count         last_modified  \\\n",
       "0                0.0  2021-10-30T12:18:38Z   \n",
       "1                0.0  2021-09-19T16:33:04Z   \n",
       "2                0.0  2021-07-26T20:14:50Z   \n",
       "3                0.0  2021-10-31T13:45:23Z   \n",
       "4            10422.0  2021-10-15T00:49:41Z   \n",
       "...              ...                   ...   \n",
       "1308             0.0  2021-10-07T23:47:50Z   \n",
       "1309             0.0  2021-10-07T23:48:12Z   \n",
       "1310             0.0  2021-10-07T23:45:28Z   \n",
       "1311             0.0  2021-10-07T23:49:23Z   \n",
       "1312             0.0  2021-10-07T23:45:51Z   \n",
       "\n",
       "                                            artwork_url            created_at  \n",
       "0     https://i1.sndcdn.com/artworks-000239422855-ug...  2017-08-21T22:39:30Z  \n",
       "1     https://i1.sndcdn.com/artworks-000107020657-dc...  2015-02-17T12:24:09Z  \n",
       "2     https://i1.sndcdn.com/artworks-fJzCiYUdpj5i-0-...  2015-12-17T07:26:37Z  \n",
       "3     https://i1.sndcdn.com/artworks-000112483597-1v...  2015-04-06T11:37:10Z  \n",
       "4     https://i1.sndcdn.com/artworks-000351225852-yj...  2012-09-13T10:32:06Z  \n",
       "...                                                 ...                   ...  \n",
       "1308  https://i1.sndcdn.com/artworks-g79adAl1WhP0-0-...  2020-07-10T03:19:22Z  \n",
       "1309  https://i1.sndcdn.com/artworks-Yzi8Tz7pcjXN-0-...  2020-07-10T03:19:48Z  \n",
       "1310  https://i1.sndcdn.com/artworks-K6ZreVz1fHhL-0-...  2020-07-10T03:20:01Z  \n",
       "1311  https://i1.sndcdn.com/artworks-hBX74Rqgya8S-0-...  2020-07-10T03:19:29Z  \n",
       "1312  https://i1.sndcdn.com/artworks-Zzxx0FLRkSXD-0-...  2020-07-10T03:19:17Z  \n",
       "\n",
       "[1021 rows x 8 columns]"
      ]
     },
     "execution_count": 12,
     "metadata": {},
     "output_type": "execute_result"
    }
   ],
   "source": [
    "track_df = track_df.drop_duplicates()\n",
    "track_df = track_df.drop([\"caption\", \"description\", \"kind\", \"track_format\"], axis = 1)\n",
    "track_df"
   ]
  },
  {
   "cell_type": "markdown",
   "id": "0af4ed6a",
   "metadata": {},
   "source": [
    "3. Dữ liệu nói lên điều gì?"
   ]
  },
  {
   "cell_type": "markdown",
   "id": "90ff84ce",
   "metadata": {},
   "source": [
    "Ta bắt đầu tìm hiểu từng cột, qua các tên cột và dữ liệu của nó, ta thấy rằng:\n",
    "- title: Tên của Track\n",
    "- id: ID của Track\n",
    "- genre: Thể loại Track\n",
    "- permalink_url: Link dẫn đến Track\n",
    "- avatar_url: Link hình ảnh avatar của User\n",
    "- download_count: Số lượng người dùng download Track\n",
    "- last_modified: Thời điểm lần cuối User hoạt động chỉnh sửa\n",
    "- artwork_url: Link ảnh minh hoạ của Track\n",
    "- created_at: Ngày Upload Track"
   ]
  },
  {
   "cell_type": "markdown",
   "id": "01a7e733",
   "metadata": {},
   "source": [
    "Các nhân viên phân tích dữ liệu sẽ quan tâm gì đến trong bảng này?\n",
    "Thì ta giả định rằng để marketing sản phẩm theo từng quốc gia, họ sẽ quan tâm đến các dữ liệu Track qua từng năm và Thể loại (genre) được yêu thích nhất, gồm các cột: `genre`, `create_at`"
   ]
  },
  {
   "cell_type": "markdown",
   "id": "7a00f06d",
   "metadata": {},
   "source": [
    "Đầu tiên ta thực hiện các bước tiền xử lý:\n",
    "- Cột id có kiểu string\n",
    "- Chuyển 2 cột \"last_modified\" và \"created_at\" thành kiểu dữ liệu datetime"
   ]
  },
  {
   "cell_type": "code",
   "execution_count": 14,
   "id": "33a65506",
   "metadata": {},
   "outputs": [],
   "source": [
    "track_df.id = track_df.id.apply(lambda x: str(x))\n",
    "a = lambda x: datetime.strptime(x, '%Y-%m-%dT%XZ')\n",
    "track_df.last_modified = track_df.last_modified.apply(a)\n",
    "track_df.created_at = track_df.created_at.apply(a)\n",
    "track_df.id = track_df.id.apply(lambda x: str(a))"
   ]
  },
  {
   "cell_type": "markdown",
   "id": "eecbc8b8",
   "metadata": {},
   "source": [
    "a. Các thể loại phổ biến (chỉ chọn 10 genres):"
   ]
  },
  {
   "cell_type": "code",
   "execution_count": 17,
   "id": "ac083780",
   "metadata": {},
   "outputs": [],
   "source": [
    "# Lấy mẫu dữ liệu\n",
    "df_1 = track_df.dropna()\n",
    "genre = df_1.genre\n",
    "genre_count = genre.value_counts(normalize = True) * 100\n",
    "genre_top = genre_count.iloc[0:10]"
   ]
  },
  {
   "cell_type": "code",
   "execution_count": 18,
   "id": "b60bde61",
   "metadata": {},
   "outputs": [
    {
     "data": {
      "image/png": "[encoded data removed]",
      "text/plain": [
       "<Figure size 432x288 with 1 Axes>"
      ]
     },
     "metadata": {
      "needs_background": "light"
     },
     "output_type": "display_data"
    }
   ],
   "source": [
    "name = genre_top.keys()\n",
    "value = genre_top.values\n",
    "plt.barh(name,value)\n",
    "plt.title(\"The most loved genre\")\n",
    "plt.yticks(range(len(name)), name)\n",
    "plt.show()"
   ]
  },
  {
   "cell_type": "markdown",
   "id": "a7acf33c",
   "metadata": {},
   "source": [
    "b. Số lượng tracks qua các năm:"
   ]
  },
  {
   "cell_type": "markdown",
   "id": "6b04f98b",
   "metadata": {},
   "source": [
    "- Phân tích số lượng tracks có thể giúp ta hiểu được số lượng người sử dụng nền tảng qua các năm, xu hướng tăng, giảm\n",
    "- Tập dữ liệu >=1000 items có thể trả lời gần đúng câu hỏi này"
   ]
  },
  {
   "cell_type": "code",
   "execution_count": 23,
   "id": "f10d719c",
   "metadata": {},
   "outputs": [],
   "source": [
    "# Tính toán\n",
    "num_track_of_years = track_df.created_at.apply(lambda x: x.year)\n",
    "num_track_of_years = num_track_of_years.value_counts()"
   ]
  },
  {
   "cell_type": "code",
   "execution_count": 24,
   "id": "ccf27b68",
   "metadata": {},
   "outputs": [
    {
     "data": {
      "image/png": "[encoded data removed]",
      "text/plain": [
       "<Figure size 432x288 with 1 Axes>"
      ]
     },
     "metadata": {
      "needs_background": "light"
     },
     "output_type": "display_data"
    }
   ],
   "source": [
    "# Vẽ biểu đồ\n",
    "name = num_track_of_years.keys()\n",
    "value = num_track_of_years.values\n",
    "fig = plt.figure()\n",
    "ax = fig.add_axes([0,0,1,1])\n",
    "ax.bar(name,value)\n",
    "ax.set_title(\"Number of tracks through years\")\n",
    "ax.set_xticks(name)\n",
    "plt.show()"
   ]
  },
  {
   "cell_type": "markdown",
   "id": "013e79eb",
   "metadata": {},
   "source": [
    "**Kết luận**: Phân tích viên có thể dựa vào biều đồ trên để đánh giá người dùng rằng:\n",
    "- Từ thể loại Genre được yêu thích nhất ta có thể biết được chiến lược phù hợp, gợi ý những thể loại này cho người dùng.\n",
    "- Số lượng biến động Track được upload qua các năm cho thấy mạnh mẽ ở 2016 và giảm ở 2021, có thể nhu cầu về âm nhạc ở trên web này đã bị giảm và họ có thể chuyển sang nền tảng, web mới."
   ]
  },
  {
   "cell_type": "code",
   "execution_count": null,
   "id": "bd49ef6d",
   "metadata": {},
   "outputs": [],
   "source": []
  }
 ],
 "metadata": {
  "kernelspec": {
   "display_name": "Python 3",
   "language": "python",
   "name": "python3"
  },
  "language_info": {
   "codemirror_mode": {
    "name": "ipython",
    "version": 3
   },
   "file_extension": ".py",
   "mimetype": "text/x-python",
   "name": "python",
   "nbconvert_exporter": "python",
   "pygments_lexer": "ipython3",
   "version": "3.8.8"
  }
 },
 "nbformat": 4,
 "nbformat_minor": 5
}
