{
 "cells": [
  {
   "cell_type": "markdown",
   "id": "c69b25a2",
   "metadata": {},
   "source": [
    "# Import"
   ]
  },
  {
   "cell_type": "code",
   "execution_count": 46,
   "id": "d380921e",
   "metadata": {},
   "outputs": [],
   "source": [
    "import pandas as pd\n",
    "import numpy as np\n",
    "from datetime import datetime\n",
    "from matplotlib import pyplot as plt"
   ]
  },
  {
   "cell_type": "markdown",
   "id": "5c5e4523",
   "metadata": {},
   "source": [
    "# Đọc file \"tracks.csv\""
   ]
  },
  {
   "cell_type": "code",
   "execution_count": 47,
   "id": "e2dafc29",
   "metadata": {},
   "outputs": [],
   "source": [
    "df = pd.read_csv(\"tracks.csv\", encoding = \"utf-8\")"
   ]
  },
  {
   "cell_type": "markdown",
   "id": "fb232901",
   "metadata": {},
   "source": [
    "# Loại bỏ 2 cột \"caption\" và \"description\""
   ]
  },
  {
   "cell_type": "code",
   "execution_count": 48,
   "id": "9f1ee414",
   "metadata": {},
   "outputs": [],
   "source": [
    "df = df.drop([\"caption\", \"description\"], axis =1)"
   ]
  },
  {
   "cell_type": "markdown",
   "id": "44a361b1",
   "metadata": {},
   "source": [
    "# Loại bỏ các dòng trùng nhau"
   ]
  },
  {
   "cell_type": "code",
   "execution_count": 49,
   "id": "8513ba52",
   "metadata": {},
   "outputs": [],
   "source": [
    "df = df.drop_duplicates()"
   ]
  },
  {
   "cell_type": "markdown",
   "id": "3b629be2",
   "metadata": {},
   "source": [
    "# Thay đôi kiểu dữ liệu phù hợp\n",
    "\n",
    "1. Cột id có kiểu string\n",
    "2. Chuyển 2 cột \"last_modified\" và \"created_at\" thành kiểu dữ liệu datetime"
   ]
  },
  {
   "cell_type": "code",
   "execution_count": 50,
   "id": "b91a58bd",
   "metadata": {},
   "outputs": [],
   "source": [
    "df.id = df.id.apply(lambda x: str(x))\n",
    "a = lambda x: datetime.strptime(x, '%Y-%m-%dT%XZ')\n",
    "df.last_modified = df.last_modified.apply(a)\n",
    "df.created_at = df.created_at.apply(a)\n",
    "df.id = df.id.apply(lambda x: str(a))"
   ]
  },
  {
   "cell_type": "markdown",
   "id": "c70b4b8b",
   "metadata": {},
   "source": [
    "# Khám phá\n",
    "## Các thể loại phổ biến (chỉ chọn 10 genres)"
   ]
  },
  {
   "cell_type": "code",
   "execution_count": 51,
   "id": "341d31dc",
   "metadata": {},
   "outputs": [],
   "source": [
    "df_1 = df.dropna()"
   ]
  },
  {
   "cell_type": "code",
   "execution_count": 52,
   "id": "efdcb7bb",
   "metadata": {},
   "outputs": [],
   "source": [
    "genre = df_1.genre"
   ]
  },
  {
   "cell_type": "code",
   "execution_count": 53,
   "id": "db1ae52b",
   "metadata": {},
   "outputs": [],
   "source": [
    "genre_count = genre.value_counts(normalize = True)*100\n",
    "genre_top = genre_count.iloc[0:10]"
   ]
  },
  {
   "cell_type": "code",
   "execution_count": 54,
   "id": "27198f62",
   "metadata": {},
   "outputs": [
    {
     "data": {
      "image/png": "[encoded data removed]",
      "text/plain": [
       "<Figure size 432x288 with 1 Axes>"
      ]
     },
     "metadata": {
      "needs_background": "light"
     },
     "output_type": "display_data"
    }
   ],
   "source": [
    "name = genre_top.keys()\n",
    "value = genre_top.values\n",
    "plt.barh(name,value)\n",
    "plt.title(\"The most loved genre\")\n",
    "plt.yticks(range(len(name)), name)\n",
    "plt.show()"
   ]
  },
  {
   "cell_type": "markdown",
   "id": "0d189b97",
   "metadata": {},
   "source": [
    "## Số lượng tracks qua các năm\n",
    "\n",
    "- Phân tích số lượng tracks có thể giúp ta hiểu được số lượng người sử dụng nền tảng qua các năm, xu hướng tăng, giảm\n",
    "- Tập dữ liệu >=1000 items có thể trả lời gần đúng câu hỏi này"
   ]
  },
  {
   "cell_type": "code",
   "execution_count": 55,
   "id": "54db1001",
   "metadata": {},
   "outputs": [],
   "source": [
    "num_track_of_years = df.created_at.apply(lambda x: x.year)"
   ]
  },
  {
   "cell_type": "code",
   "execution_count": 56,
   "id": "b2e6a6f8",
   "metadata": {},
   "outputs": [],
   "source": [
    "num_track_of_years = num_track_of_years.value_counts()"
   ]
  },
  {
   "cell_type": "code",
   "execution_count": 57,
   "id": "1d031955",
   "metadata": {},
   "outputs": [
    {
     "data": {
      "image/png": "[encoded data removed]",
      "text/plain": [
       "<Figure size 432x288 with 1 Axes>"
      ]
     },
     "metadata": {
      "needs_background": "light"
     },
     "output_type": "display_data"
    }
   ],
   "source": [
    "name = num_track_of_years.keys()\n",
    "value = num_track_of_years.values\n",
    "fig = plt.figure()\n",
    "ax = fig.add_axes([0,0,1,1])\n",
    "ax.bar(name,value)\n",
    "ax.set_title(\"Number of tracks through years\")\n",
    "ax.set_xticks(name)\n",
    "plt.show()"
   ]
  },
  {
   "cell_type": "code",
   "execution_count": null,
   "id": "f1538109",
   "metadata": {},
   "outputs": [],
   "source": []
  }
 ],
 "metadata": {
  "kernelspec": {
   "display_name": "Python 3 (ipykernel)",
   "language": "python",
   "name": "python3"
  },
  "language_info": {
   "codemirror_mode": {
    "name": "ipython",
    "version": 3
   },
   "file_extension": ".py",
   "mimetype": "text/x-python",
   "name": "python",
   "nbconvert_exporter": "python",
   "pygments_lexer": "ipython3",
   "version": "3.8.8"
  }
 },
 "nbformat": 4,
 "nbformat_minor": 5
}
